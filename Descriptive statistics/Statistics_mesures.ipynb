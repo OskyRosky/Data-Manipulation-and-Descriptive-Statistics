{
 "cells": [
  {
   "cell_type": "markdown",
   "metadata": {},
   "source": [
    "# Estadíticas descriptovas \n",
    "\n",
    "### Importado y verificado el archivo, lo siguientes es hacer ciertas estadísticas para conocer el estado de la información.\n",
    "### Lo usual son las estadísticas descriptivas de medidas de posición y medidas de variabilidad.\n",
    "### Pero también es importante obtener en mayor detalle, ciertas estadística a partir de ciertros filtros o categorías, o del agrupamiento por cierta variable o característica."
   ]
  },
  {
   "cell_type": "markdown",
   "metadata": {},
   "source": [
    "## Importar datos\n",
    "\n",
    "### Trabajaremos con los archivos de employee y workday"
   ]
  },
  {
   "cell_type": "code",
   "execution_count": 52,
   "metadata": {},
   "outputs": [],
   "source": [
    "# Libraries\n",
    "\n",
    "import os\n",
    "import pandas as pd\n",
    "import numpy as np"
   ]
  },
  {
   "cell_type": "code",
   "execution_count": 53,
   "metadata": {},
   "outputs": [
    {
     "name": "stdout",
     "output_type": "stream",
     "text": [
      "Current working directory: c:\\Users\\oscar\\Desktop\\GitHub\\Python\\Jupyter Notebook\\Descriptive statistics\n"
     ]
    }
   ],
   "source": [
    "# Set de workin directory\n",
    "\n",
    "path = 'C:\\\\Users\\\\oscar\\\\Desktop\\\\GitHub\\\\Python\\\\Jupyter Notebook\\\\Descriptive statistics'\n",
    "\n",
    "# Change the current working directory\n",
    "os.chdir(path)\n",
    "\n",
    "# Let's check the new directory \n",
    "\n",
    "print(\"Current working directory: {0}\".format(os.getcwd()))"
   ]
  },
  {
   "cell_type": "code",
   "execution_count": 54,
   "metadata": {},
   "outputs": [],
   "source": [
    "# Import data\n",
    "\n",
    "employee = pd.read_excel('testData.xlsx', sheet_name= 'employee')\n",
    "workday = pd.read_excel('testData.xlsx', sheet_name= 'workday')"
   ]
  },
  {
   "cell_type": "markdown",
   "metadata": {},
   "source": [
    "# 1. Análisis gneral del archivo de datos\n",
    "\n",
    "## Una forma general es el uso de la función .describe()"
   ]
  },
  {
   "cell_type": "code",
   "execution_count": 55,
   "metadata": {},
   "outputs": [
    {
     "data": {
      "text/html": [
       "<div>\n",
       "<style scoped>\n",
       "    .dataframe tbody tr th:only-of-type {\n",
       "        vertical-align: middle;\n",
       "    }\n",
       "\n",
       "    .dataframe tbody tr th {\n",
       "        vertical-align: top;\n",
       "    }\n",
       "\n",
       "    .dataframe thead th {\n",
       "        text-align: right;\n",
       "    }\n",
       "</style>\n",
       "<table border=\"1\" class=\"dataframe\">\n",
       "  <thead>\n",
       "    <tr style=\"text-align: right;\">\n",
       "      <th></th>\n",
       "      <th>employee_id</th>\n",
       "      <th>transport_expense</th>\n",
       "      <th>distance</th>\n",
       "      <th>age</th>\n",
       "      <th>education</th>\n",
       "      <th>sons</th>\n",
       "      <th>pet</th>\n",
       "      <th>disciplinary_faults</th>\n",
       "    </tr>\n",
       "  </thead>\n",
       "  <tbody>\n",
       "    <tr>\n",
       "      <th>count</th>\n",
       "      <td>37.000000</td>\n",
       "      <td>37.000000</td>\n",
       "      <td>37.000000</td>\n",
       "      <td>37.000000</td>\n",
       "      <td>37.000000</td>\n",
       "      <td>37.000000</td>\n",
       "      <td>37.000000</td>\n",
       "      <td>37.000000</td>\n",
       "    </tr>\n",
       "    <tr>\n",
       "      <th>mean</th>\n",
       "      <td>18.783784</td>\n",
       "      <td>236.945946</td>\n",
       "      <td>27.162162</td>\n",
       "      <td>38.054054</td>\n",
       "      <td>1.351351</td>\n",
       "      <td>1.081081</td>\n",
       "      <td>1.297297</td>\n",
       "      <td>2.324324</td>\n",
       "    </tr>\n",
       "    <tr>\n",
       "      <th>std</th>\n",
       "      <td>10.530736</td>\n",
       "      <td>72.975242</td>\n",
       "      <td>14.318817</td>\n",
       "      <td>7.989389</td>\n",
       "      <td>0.753371</td>\n",
       "      <td>1.010456</td>\n",
       "      <td>2.066463</td>\n",
       "      <td>1.795891</td>\n",
       "    </tr>\n",
       "    <tr>\n",
       "      <th>min</th>\n",
       "      <td>1.000000</td>\n",
       "      <td>118.000000</td>\n",
       "      <td>5.000000</td>\n",
       "      <td>27.000000</td>\n",
       "      <td>1.000000</td>\n",
       "      <td>0.000000</td>\n",
       "      <td>0.000000</td>\n",
       "      <td>0.000000</td>\n",
       "    </tr>\n",
       "    <tr>\n",
       "      <th>25%</th>\n",
       "      <td>10.000000</td>\n",
       "      <td>179.000000</td>\n",
       "      <td>15.000000</td>\n",
       "      <td>32.000000</td>\n",
       "      <td>1.000000</td>\n",
       "      <td>0.000000</td>\n",
       "      <td>0.000000</td>\n",
       "      <td>1.000000</td>\n",
       "    </tr>\n",
       "    <tr>\n",
       "      <th>50%</th>\n",
       "      <td>19.000000</td>\n",
       "      <td>235.000000</td>\n",
       "      <td>26.000000</td>\n",
       "      <td>37.000000</td>\n",
       "      <td>1.000000</td>\n",
       "      <td>1.000000</td>\n",
       "      <td>0.000000</td>\n",
       "      <td>2.000000</td>\n",
       "    </tr>\n",
       "    <tr>\n",
       "      <th>75%</th>\n",
       "      <td>28.000000</td>\n",
       "      <td>289.000000</td>\n",
       "      <td>36.000000</td>\n",
       "      <td>43.000000</td>\n",
       "      <td>1.000000</td>\n",
       "      <td>2.000000</td>\n",
       "      <td>2.000000</td>\n",
       "      <td>4.000000</td>\n",
       "    </tr>\n",
       "    <tr>\n",
       "      <th>max</th>\n",
       "      <td>36.000000</td>\n",
       "      <td>388.000000</td>\n",
       "      <td>52.000000</td>\n",
       "      <td>58.000000</td>\n",
       "      <td>4.000000</td>\n",
       "      <td>4.000000</td>\n",
       "      <td>8.000000</td>\n",
       "      <td>5.000000</td>\n",
       "    </tr>\n",
       "  </tbody>\n",
       "</table>\n",
       "</div>"
      ],
      "text/plain": [
       "       employee_id  transport_expense   distance        age  education  \\\n",
       "count    37.000000          37.000000  37.000000  37.000000  37.000000   \n",
       "mean     18.783784         236.945946  27.162162  38.054054   1.351351   \n",
       "std      10.530736          72.975242  14.318817   7.989389   0.753371   \n",
       "min       1.000000         118.000000   5.000000  27.000000   1.000000   \n",
       "25%      10.000000         179.000000  15.000000  32.000000   1.000000   \n",
       "50%      19.000000         235.000000  26.000000  37.000000   1.000000   \n",
       "75%      28.000000         289.000000  36.000000  43.000000   1.000000   \n",
       "max      36.000000         388.000000  52.000000  58.000000   4.000000   \n",
       "\n",
       "            sons        pet  disciplinary_faults  \n",
       "count  37.000000  37.000000            37.000000  \n",
       "mean    1.081081   1.297297             2.324324  \n",
       "std     1.010456   2.066463             1.795891  \n",
       "min     0.000000   0.000000             0.000000  \n",
       "25%     0.000000   0.000000             1.000000  \n",
       "50%     1.000000   0.000000             2.000000  \n",
       "75%     2.000000   2.000000             4.000000  \n",
       "max     4.000000   8.000000             5.000000  "
      ]
     },
     "execution_count": 55,
     "metadata": {},
     "output_type": "execute_result"
    }
   ],
   "source": [
    "# Opción 1\n",
    "\n",
    "employee.describe()"
   ]
  },
  {
   "cell_type": "code",
   "execution_count": 56,
   "metadata": {},
   "outputs": [
    {
     "data": {
      "text/html": [
       "<div>\n",
       "<style scoped>\n",
       "    .dataframe tbody tr th:only-of-type {\n",
       "        vertical-align: middle;\n",
       "    }\n",
       "\n",
       "    .dataframe tbody tr th {\n",
       "        vertical-align: top;\n",
       "    }\n",
       "\n",
       "    .dataframe thead th {\n",
       "        text-align: right;\n",
       "    }\n",
       "</style>\n",
       "<table border=\"1\" class=\"dataframe\">\n",
       "  <thead>\n",
       "    <tr style=\"text-align: right;\">\n",
       "      <th></th>\n",
       "      <th>count</th>\n",
       "      <th>mean</th>\n",
       "      <th>std</th>\n",
       "      <th>min</th>\n",
       "      <th>25%</th>\n",
       "      <th>50%</th>\n",
       "      <th>75%</th>\n",
       "      <th>max</th>\n",
       "    </tr>\n",
       "  </thead>\n",
       "  <tbody>\n",
       "    <tr>\n",
       "      <th>employee_id</th>\n",
       "      <td>37.0</td>\n",
       "      <td>18.783784</td>\n",
       "      <td>10.530736</td>\n",
       "      <td>1.0</td>\n",
       "      <td>10.0</td>\n",
       "      <td>19.0</td>\n",
       "      <td>28.0</td>\n",
       "      <td>36.0</td>\n",
       "    </tr>\n",
       "    <tr>\n",
       "      <th>transport_expense</th>\n",
       "      <td>37.0</td>\n",
       "      <td>236.945946</td>\n",
       "      <td>72.975242</td>\n",
       "      <td>118.0</td>\n",
       "      <td>179.0</td>\n",
       "      <td>235.0</td>\n",
       "      <td>289.0</td>\n",
       "      <td>388.0</td>\n",
       "    </tr>\n",
       "    <tr>\n",
       "      <th>distance</th>\n",
       "      <td>37.0</td>\n",
       "      <td>27.162162</td>\n",
       "      <td>14.318817</td>\n",
       "      <td>5.0</td>\n",
       "      <td>15.0</td>\n",
       "      <td>26.0</td>\n",
       "      <td>36.0</td>\n",
       "      <td>52.0</td>\n",
       "    </tr>\n",
       "    <tr>\n",
       "      <th>age</th>\n",
       "      <td>37.0</td>\n",
       "      <td>38.054054</td>\n",
       "      <td>7.989389</td>\n",
       "      <td>27.0</td>\n",
       "      <td>32.0</td>\n",
       "      <td>37.0</td>\n",
       "      <td>43.0</td>\n",
       "      <td>58.0</td>\n",
       "    </tr>\n",
       "    <tr>\n",
       "      <th>education</th>\n",
       "      <td>37.0</td>\n",
       "      <td>1.351351</td>\n",
       "      <td>0.753371</td>\n",
       "      <td>1.0</td>\n",
       "      <td>1.0</td>\n",
       "      <td>1.0</td>\n",
       "      <td>1.0</td>\n",
       "      <td>4.0</td>\n",
       "    </tr>\n",
       "    <tr>\n",
       "      <th>sons</th>\n",
       "      <td>37.0</td>\n",
       "      <td>1.081081</td>\n",
       "      <td>1.010456</td>\n",
       "      <td>0.0</td>\n",
       "      <td>0.0</td>\n",
       "      <td>1.0</td>\n",
       "      <td>2.0</td>\n",
       "      <td>4.0</td>\n",
       "    </tr>\n",
       "    <tr>\n",
       "      <th>pet</th>\n",
       "      <td>37.0</td>\n",
       "      <td>1.297297</td>\n",
       "      <td>2.066463</td>\n",
       "      <td>0.0</td>\n",
       "      <td>0.0</td>\n",
       "      <td>0.0</td>\n",
       "      <td>2.0</td>\n",
       "      <td>8.0</td>\n",
       "    </tr>\n",
       "    <tr>\n",
       "      <th>disciplinary_faults</th>\n",
       "      <td>37.0</td>\n",
       "      <td>2.324324</td>\n",
       "      <td>1.795891</td>\n",
       "      <td>0.0</td>\n",
       "      <td>1.0</td>\n",
       "      <td>2.0</td>\n",
       "      <td>4.0</td>\n",
       "      <td>5.0</td>\n",
       "    </tr>\n",
       "  </tbody>\n",
       "</table>\n",
       "</div>"
      ],
      "text/plain": [
       "                     count        mean        std    min    25%    50%    75%  \\\n",
       "employee_id           37.0   18.783784  10.530736    1.0   10.0   19.0   28.0   \n",
       "transport_expense     37.0  236.945946  72.975242  118.0  179.0  235.0  289.0   \n",
       "distance              37.0   27.162162  14.318817    5.0   15.0   26.0   36.0   \n",
       "age                   37.0   38.054054   7.989389   27.0   32.0   37.0   43.0   \n",
       "education             37.0    1.351351   0.753371    1.0    1.0    1.0    1.0   \n",
       "sons                  37.0    1.081081   1.010456    0.0    0.0    1.0    2.0   \n",
       "pet                   37.0    1.297297   2.066463    0.0    0.0    0.0    2.0   \n",
       "disciplinary_faults   37.0    2.324324   1.795891    0.0    1.0    2.0    4.0   \n",
       "\n",
       "                       max  \n",
       "employee_id           36.0  \n",
       "transport_expense    388.0  \n",
       "distance              52.0  \n",
       "age                   58.0  \n",
       "education              4.0  \n",
       "sons                   4.0  \n",
       "pet                    8.0  \n",
       "disciplinary_faults    5.0  "
      ]
     },
     "execution_count": 56,
     "metadata": {},
     "output_type": "execute_result"
    }
   ],
   "source": [
    "# Opción 2\n",
    "\n",
    "employee.describe().transpose()"
   ]
  },
  {
   "cell_type": "code",
   "execution_count": 57,
   "metadata": {},
   "outputs": [
    {
     "data": {
      "text/html": [
       "<div>\n",
       "<style scoped>\n",
       "    .dataframe tbody tr th:only-of-type {\n",
       "        vertical-align: middle;\n",
       "    }\n",
       "\n",
       "    .dataframe tbody tr th {\n",
       "        vertical-align: top;\n",
       "    }\n",
       "\n",
       "    .dataframe thead th {\n",
       "        text-align: right;\n",
       "    }\n",
       "</style>\n",
       "<table border=\"1\" class=\"dataframe\">\n",
       "  <thead>\n",
       "    <tr style=\"text-align: right;\">\n",
       "      <th></th>\n",
       "      <th>count</th>\n",
       "      <th>mean</th>\n",
       "      <th>std</th>\n",
       "      <th>min</th>\n",
       "      <th>25%</th>\n",
       "      <th>50%</th>\n",
       "      <th>75%</th>\n",
       "      <th>max</th>\n",
       "    </tr>\n",
       "  </thead>\n",
       "  <tbody>\n",
       "    <tr>\n",
       "      <th>employee_id</th>\n",
       "      <td>37.0</td>\n",
       "      <td>18.8</td>\n",
       "      <td>10.5</td>\n",
       "      <td>1.0</td>\n",
       "      <td>10.0</td>\n",
       "      <td>19.0</td>\n",
       "      <td>28.0</td>\n",
       "      <td>36.0</td>\n",
       "    </tr>\n",
       "    <tr>\n",
       "      <th>transport_expense</th>\n",
       "      <td>37.0</td>\n",
       "      <td>236.9</td>\n",
       "      <td>73.0</td>\n",
       "      <td>118.0</td>\n",
       "      <td>179.0</td>\n",
       "      <td>235.0</td>\n",
       "      <td>289.0</td>\n",
       "      <td>388.0</td>\n",
       "    </tr>\n",
       "    <tr>\n",
       "      <th>distance</th>\n",
       "      <td>37.0</td>\n",
       "      <td>27.2</td>\n",
       "      <td>14.3</td>\n",
       "      <td>5.0</td>\n",
       "      <td>15.0</td>\n",
       "      <td>26.0</td>\n",
       "      <td>36.0</td>\n",
       "      <td>52.0</td>\n",
       "    </tr>\n",
       "    <tr>\n",
       "      <th>age</th>\n",
       "      <td>37.0</td>\n",
       "      <td>38.1</td>\n",
       "      <td>8.0</td>\n",
       "      <td>27.0</td>\n",
       "      <td>32.0</td>\n",
       "      <td>37.0</td>\n",
       "      <td>43.0</td>\n",
       "      <td>58.0</td>\n",
       "    </tr>\n",
       "    <tr>\n",
       "      <th>education</th>\n",
       "      <td>37.0</td>\n",
       "      <td>1.4</td>\n",
       "      <td>0.8</td>\n",
       "      <td>1.0</td>\n",
       "      <td>1.0</td>\n",
       "      <td>1.0</td>\n",
       "      <td>1.0</td>\n",
       "      <td>4.0</td>\n",
       "    </tr>\n",
       "    <tr>\n",
       "      <th>sons</th>\n",
       "      <td>37.0</td>\n",
       "      <td>1.1</td>\n",
       "      <td>1.0</td>\n",
       "      <td>0.0</td>\n",
       "      <td>0.0</td>\n",
       "      <td>1.0</td>\n",
       "      <td>2.0</td>\n",
       "      <td>4.0</td>\n",
       "    </tr>\n",
       "    <tr>\n",
       "      <th>pet</th>\n",
       "      <td>37.0</td>\n",
       "      <td>1.3</td>\n",
       "      <td>2.1</td>\n",
       "      <td>0.0</td>\n",
       "      <td>0.0</td>\n",
       "      <td>0.0</td>\n",
       "      <td>2.0</td>\n",
       "      <td>8.0</td>\n",
       "    </tr>\n",
       "    <tr>\n",
       "      <th>disciplinary_faults</th>\n",
       "      <td>37.0</td>\n",
       "      <td>2.3</td>\n",
       "      <td>1.8</td>\n",
       "      <td>0.0</td>\n",
       "      <td>1.0</td>\n",
       "      <td>2.0</td>\n",
       "      <td>4.0</td>\n",
       "      <td>5.0</td>\n",
       "    </tr>\n",
       "  </tbody>\n",
       "</table>\n",
       "</div>"
      ],
      "text/plain": [
       "                     count   mean   std    min    25%    50%    75%    max\n",
       "employee_id           37.0   18.8  10.5    1.0   10.0   19.0   28.0   36.0\n",
       "transport_expense     37.0  236.9  73.0  118.0  179.0  235.0  289.0  388.0\n",
       "distance              37.0   27.2  14.3    5.0   15.0   26.0   36.0   52.0\n",
       "age                   37.0   38.1   8.0   27.0   32.0   37.0   43.0   58.0\n",
       "education             37.0    1.4   0.8    1.0    1.0    1.0    1.0    4.0\n",
       "sons                  37.0    1.1   1.0    0.0    0.0    1.0    2.0    4.0\n",
       "pet                   37.0    1.3   2.1    0.0    0.0    0.0    2.0    8.0\n",
       "disciplinary_faults   37.0    2.3   1.8    0.0    1.0    2.0    4.0    5.0"
      ]
     },
     "execution_count": 57,
     "metadata": {},
     "output_type": "execute_result"
    }
   ],
   "source": [
    "# Opción 3\n",
    "\n",
    "employee.describe().transpose().round(1)"
   ]
  },
  {
   "cell_type": "markdown",
   "metadata": {},
   "source": [
    "# 2. Análisis del archivo de datos según ciertras medidas"
   ]
  },
  {
   "cell_type": "code",
   "execution_count": 58,
   "metadata": {},
   "outputs": [
    {
     "name": "stderr",
     "output_type": "stream",
     "text": [
      "C:\\Users\\oscar\\AppData\\Local\\Temp\\ipykernel_19556\\2138060247.py:4: FutureWarning: The default value of numeric_only in DataFrame.mean is deprecated. In a future version, it will default to False. In addition, specifying 'numeric_only=None' is deprecated. Select only valid columns or specify the value of numeric_only to silence this warning.\n",
      "  employee.mean()\n"
     ]
    },
    {
     "data": {
      "text/plain": [
       "employee_id             18.783784\n",
       "transport_expense      236.945946\n",
       "distance                27.162162\n",
       "age                     38.054054\n",
       "education                1.351351\n",
       "sons                     1.081081\n",
       "pet                      1.297297\n",
       "disciplinary_faults      2.324324\n",
       "dtype: float64"
      ]
     },
     "execution_count": 58,
     "metadata": {},
     "output_type": "execute_result"
    }
   ],
   "source": [
    "# Opción 1\n",
    "# Solo para el promedio\n",
    "\n",
    "employee.mean()"
   ]
  },
  {
   "cell_type": "code",
   "execution_count": 59,
   "metadata": {},
   "outputs": [
    {
     "name": "stderr",
     "output_type": "stream",
     "text": [
      "C:\\Users\\oscar\\AppData\\Local\\Temp\\ipykernel_19556\\2791595111.py:3: FutureWarning: The default value of numeric_only in DataFrame.std is deprecated. In a future version, it will default to False. In addition, specifying 'numeric_only=None' is deprecated. Select only valid columns or specify the value of numeric_only to silence this warning.\n",
      "  employee.std()\n"
     ]
    },
    {
     "data": {
      "text/plain": [
       "employee_id            10.530736\n",
       "transport_expense      72.975242\n",
       "distance               14.318817\n",
       "age                     7.989389\n",
       "education               0.753371\n",
       "sons                    1.010456\n",
       "pet                     2.066463\n",
       "disciplinary_faults     1.795891\n",
       "dtype: float64"
      ]
     },
     "execution_count": 59,
     "metadata": {},
     "output_type": "execute_result"
    }
   ],
   "source": [
    "# Solo para la desviación estándar\n",
    "\n",
    "employee.std()"
   ]
  },
  {
   "cell_type": "code",
   "execution_count": 60,
   "metadata": {},
   "outputs": [
    {
     "data": {
      "text/plain": [
       "37.0"
      ]
     },
     "execution_count": 60,
     "metadata": {},
     "output_type": "execute_result"
    }
   ],
   "source": [
    "# Opción 1e \n",
    "\n",
    "employee.age.median()\n",
    "\n"
   ]
  },
  {
   "cell_type": "code",
   "execution_count": 61,
   "metadata": {},
   "outputs": [
    {
     "data": {
      "text/plain": [
       "37.0"
      ]
     },
     "execution_count": 61,
     "metadata": {},
     "output_type": "execute_result"
    }
   ],
   "source": [
    "# Para una cierta variable \n",
    "\n",
    "employee['age'].median()"
   ]
  },
  {
   "attachments": {},
   "cell_type": "markdown",
   "metadata": {},
   "source": [
    "# Crear subconjunto de datos \n",
    "\n",
    "# Uso de la función groupby y .agg"
   ]
  },
  {
   "attachments": {},
   "cell_type": "markdown",
   "metadata": {},
   "source": [
    "## El .groupby"
   ]
  },
  {
   "cell_type": "code",
   "execution_count": 63,
   "metadata": {},
   "outputs": [
    {
     "data": {
      "text/plain": [
       "gender\n",
       "F    38.0\n",
       "M    39.0\n",
       "Name: age, dtype: float64"
      ]
     },
     "execution_count": 63,
     "metadata": {},
     "output_type": "execute_result"
    }
   ],
   "source": [
    "# Ejemplo 1\n",
    "\n",
    "employee.groupby(['gender']).age.mean().round()"
   ]
  },
  {
   "cell_type": "code",
   "execution_count": 64,
   "metadata": {},
   "outputs": [
    {
     "data": {
      "text/plain": [
       "pet\n",
       "0    23.0\n",
       "1    27.0\n",
       "2    30.0\n",
       "4    50.0\n",
       "5    29.0\n",
       "8    32.0\n",
       "Name: distance, dtype: float64"
      ]
     },
     "execution_count": 64,
     "metadata": {},
     "output_type": "execute_result"
    }
   ],
   "source": [
    "# Ejemplo 2 \n",
    "\n",
    "employee.groupby(['pet']).distance.mean().round()"
   ]
  },
  {
   "attachments": {},
   "cell_type": "markdown",
   "metadata": {},
   "source": [
    "# Uso del agreggate \n",
    "\n",
    "https://pandas.pydata.org/pandas-docs/stable/reference/api/pandas.DataFrame.agg.html"
   ]
  },
  {
   "cell_type": "code",
   "execution_count": 71,
   "metadata": {},
   "outputs": [
    {
     "data": {
      "text/html": [
       "<div>\n",
       "<style scoped>\n",
       "    .dataframe tbody tr th:only-of-type {\n",
       "        vertical-align: middle;\n",
       "    }\n",
       "\n",
       "    .dataframe tbody tr th {\n",
       "        vertical-align: top;\n",
       "    }\n",
       "\n",
       "    .dataframe thead th {\n",
       "        text-align: right;\n",
       "    }\n",
       "</style>\n",
       "<table border=\"1\" class=\"dataframe\">\n",
       "  <thead>\n",
       "    <tr style=\"text-align: right;\">\n",
       "      <th></th>\n",
       "      <th>age</th>\n",
       "      <th>transport_expense</th>\n",
       "      <th>distance</th>\n",
       "    </tr>\n",
       "    <tr>\n",
       "      <th>disciplinary_faults</th>\n",
       "      <th></th>\n",
       "      <th></th>\n",
       "      <th></th>\n",
       "    </tr>\n",
       "  </thead>\n",
       "  <tbody>\n",
       "    <tr>\n",
       "      <th>0</th>\n",
       "      <td>35.857143</td>\n",
       "      <td>1845</td>\n",
       "      <td>26.0</td>\n",
       "    </tr>\n",
       "    <tr>\n",
       "      <th>1</th>\n",
       "      <td>37.000000</td>\n",
       "      <td>1772</td>\n",
       "      <td>21.0</td>\n",
       "    </tr>\n",
       "    <tr>\n",
       "      <th>2</th>\n",
       "      <td>34.000000</td>\n",
       "      <td>1515</td>\n",
       "      <td>26.0</td>\n",
       "    </tr>\n",
       "    <tr>\n",
       "      <th>3</th>\n",
       "      <td>42.000000</td>\n",
       "      <td>1099</td>\n",
       "      <td>25.0</td>\n",
       "    </tr>\n",
       "    <tr>\n",
       "      <th>4</th>\n",
       "      <td>45.750000</td>\n",
       "      <td>910</td>\n",
       "      <td>37.0</td>\n",
       "    </tr>\n",
       "    <tr>\n",
       "      <th>5</th>\n",
       "      <td>37.714286</td>\n",
       "      <td>1626</td>\n",
       "      <td>31.0</td>\n",
       "    </tr>\n",
       "  </tbody>\n",
       "</table>\n",
       "</div>"
      ],
      "text/plain": [
       "                           age  transport_expense  distance\n",
       "disciplinary_faults                                        \n",
       "0                    35.857143               1845      26.0\n",
       "1                    37.000000               1772      21.0\n",
       "2                    34.000000               1515      26.0\n",
       "3                    42.000000               1099      25.0\n",
       "4                    45.750000                910      37.0\n",
       "5                    37.714286               1626      31.0"
      ]
     },
     "execution_count": 71,
     "metadata": {},
     "output_type": "execute_result"
    }
   ],
   "source": [
    "# Ejemplo \n",
    "\n",
    "employee.groupby(['disciplinary_faults']).agg({'age':'mean',\n",
    "                                               'transport_expense':'sum',\n",
    "                                               'distance':'median'})"
   ]
  }
 ],
 "metadata": {
  "kernelspec": {
   "display_name": "Python 3.9.13 64-bit (microsoft store)",
   "language": "python",
   "name": "python3"
  },
  "language_info": {
   "codemirror_mode": {
    "name": "ipython",
    "version": 3
   },
   "file_extension": ".py",
   "mimetype": "text/x-python",
   "name": "python",
   "nbconvert_exporter": "python",
   "pygments_lexer": "ipython3",
   "version": "3.9.13 (tags/v3.9.13:6de2ca5, May 17 2022, 16:36:42) [MSC v.1929 64 bit (AMD64)]"
  },
  "orig_nbformat": 4,
  "vscode": {
   "interpreter": {
    "hash": "a00094f430d4e0bf31d8bcd1818e632624f2ff7a6dccccbf63d2a36832140da3"
   }
  }
 },
 "nbformat": 4,
 "nbformat_minor": 2
}
