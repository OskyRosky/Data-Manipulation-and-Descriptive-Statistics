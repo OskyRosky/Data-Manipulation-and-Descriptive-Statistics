{
 "cells": [
  {
   "cell_type": "markdown",
   "metadata": {},
   "source": [
    "# En este módulo veremos como importar y exportar datos en Python\n",
    "\n",
    "## Para esto, utilizaremos un archivo .xsls y un archivo .csv para llevar a cabo la importación.\n",
    "\n",
    "## Primero es tener el espacio de trabajo establecido"
   ]
  },
  {
   "cell_type": "code",
   "execution_count": 21,
   "metadata": {},
   "outputs": [
    {
     "name": "stdout",
     "output_type": "stream",
     "text": [
      "Current working directory: c:\\Users\\oscar\\Desktop\\GitHub\\Python\\Jupyter Notebook\\Data Manipulation\\Importar y exportar datos\n",
      "Current working directory: c:\\Users\\oscar\\Desktop\\GitHub\\Python\\Jupyter Notebook\\Data Manipulation\\Importar y exportar datos\n"
     ]
    }
   ],
   "source": [
    "import os\n",
    "cwd = os.getcwd()\n",
    "cwd\n",
    "# Print the current working directory\n",
    "print(\"Current working directory: {0}\".format(cwd))\n",
    "\n",
    "\n",
    "path = 'C:\\\\Users\\\\oscar\\\\Desktop\\\\GitHub\\\\Python\\\\Jupyter Notebook\\\\Data Manipulation\\\\Importar y exportar datos'\n",
    "# Change the current working directory\n",
    "os.chdir(path)\n",
    "# Let's check the new directory \n",
    "print(\"Current working directory: {0}\".format(os.getcwd()))"
   ]
  },
  {
   "cell_type": "markdown",
   "metadata": {},
   "source": [
    "## Importar el archivo de datos en Excel \n",
    "\n",
    "### Para un archivo de datos de Excel, utilizando la librería de Pandas, pd, utilizamos la función *.read_excel*\n",
    "\n",
    "pandas.read_excel(io, sheet_name=0, *, header=0, names=None, index_col=None, usecols=None, squeeze=None, dtype=None, engine=None, converters=None, true_values=None, false_values=None, skiprows=None, nrows=None, na_values=None, keep_default_na=True, na_filter=True, verbose=False, parse_dates=False, date_parser=None, thousands=None, decimal='.', comment=None, skipfooter=0, convert_float=None, mangle_dupe_cols=True, storage_options=None)\n"
   ]
  },
  {
   "cell_type": "code",
   "execution_count": 22,
   "metadata": {},
   "outputs": [
    {
     "name": "stdout",
     "output_type": "stream",
     "text": [
      "(37, 10)\n",
      "['employee_id', 'transport_expense', 'distance', 'age', 'education', 'sons', 'pet', 'gender', 'disciplinary_faults', 'transportation_method']\n"
     ]
    }
   ],
   "source": [
    "import pandas as pd\n",
    "\n",
    "employee = pd.read_excel('testData.xlsx', sheet_name= 'employee')\n",
    "\n",
    "# .shape para ver las dimenciones de filas y columnas\n",
    "\n",
    "print(employee.shape)\n",
    "\n",
    "\n",
    "# Veamos la lista de variables\n",
    "\n",
    "variables1 = employee.columns.values.tolist()\n",
    "print(variables1)"
   ]
  },
  {
   "cell_type": "markdown",
   "metadata": {},
   "source": [
    "## Importar un archivo .csv delimitado por comar\n",
    "\n",
    "### Para un archivo de datos de Excel, utilizando la librería de Pandas, read_csv\n",
    "\n",
    "\n",
    "pandas.read_csv(filepath_or_buffer, *, sep=_NoDefault.no_default, delimiter=None, header='infer', names=_NoDefault.no_default, index_col=None, usecols=None, squeeze=None, prefix=_NoDefault.no_default, mangle_dupe_cols=True, dtype=None, engine=None, converters=None, true_values=None, false_values=None, skipinitialspace=False, skiprows=None, skipfooter=0, nrows=None, na_values=None, keep_default_na=True, na_filter=True, verbose=False, skip_blank_lines=True, parse_dates=None, infer_datetime_format=False, keep_date_col=False, date_parser=None, dayfirst=False, cache_dates=True, iterator=False, chunksize=None, compression='infer', thousands=None, decimal='.', lineterminator=None, quotechar='\"', quoting=0, doublequote=True, escapechar=None, comment=None, encoding=None, encoding_errors='strict', dialect=None, error_bad_lines=None, warn_bad_lines=None, on_bad_lines=None, delim_whitespace=False, low_memory=True, memory_map=False, float_precision=None, storage_options=None)[source]"
   ]
  },
  {
   "cell_type": "code",
   "execution_count": 23,
   "metadata": {},
   "outputs": [
    {
     "name": "stdout",
     "output_type": "stream",
     "text": [
      "(2, 4)\n",
      "['Nombre', 'Genero', 'Edad', 'Salario']\n"
     ]
    }
   ],
   "source": [
    "data = pd.read_csv('Datos.csv',sep=';')\n",
    "\n",
    "# .shape para ver las dimenciones de filas y columnas\n",
    "\n",
    "print(data.shape)\n",
    "\n",
    "\n",
    "# Veamos la lista de variables\n",
    "\n",
    "variables2 = data.columns.values.tolist()\n",
    "print(variables2)"
   ]
  },
  {
   "cell_type": "markdown",
   "metadata": {},
   "source": [
    "## Exportar un archivo de datos\n",
    "\n",
    "### Para exportar un archivo de datos debemos:\n",
    "### 1. Verificar la dirección donde estos deben ser exportados\n",
    "### 2. Detrminar el nombre del archivo de exportación\n",
    "### 3. Utilizar el formato de exportación, por ejemplo Excel, será en este caso la función *.to_excel(\"file\")*\n",
    "\n",
    "### Veamos el siguiente ejemplo"
   ]
  },
  {
   "cell_type": "code",
   "execution_count": 24,
   "metadata": {},
   "outputs": [
    {
     "name": "stdout",
     "output_type": "stream",
     "text": [
      "c:\\Users\\oscar\\Desktop\\GitHub\\Python\\Jupyter Notebook\\Data Manipulation\\Importar y exportar datos\n",
      "Int64Index([0, 1, 2, 3, 4, 5, 6, 7, 8], dtype='int64')\n",
      "0        Ram\n",
      "1       Deep\n",
      "2       Yash\n",
      "3       Aman\n",
      "4      Arjun\n",
      "5     Aditya\n",
      "6      Divya\n",
      "7    Chalsea\n",
      "8      Akash\n",
      "Name: Name, dtype: object\n",
      "   ID     Name  Marks Grade\n",
      "0  23      Ram     89     B\n",
      "1  43     Deep     97     A\n",
      "2  12     Yash     45     F\n",
      "3  13     Aman     78     C\n",
      "4  67    Arjun     56     E\n",
      "5  89   Aditya     76     C\n",
      "6  90    Divya    100     A\n",
      "7  56  Chalsea     87     B\n",
      "8  34    Akash     81     B\n"
     ]
    }
   ],
   "source": [
    "######################################\n",
    "#   Export a .xlsx fiel from python  #\n",
    "######################################\n",
    "\n",
    "import os\n",
    "\n",
    "print(os.getcwd())\n",
    "\n",
    "# A new Data Frame \n",
    "d_data = pd.DataFrame({'ID': {0: 23, 1: 43, 2: 12,\n",
    "                                 3: 13, 4: 67, 5: 89,\n",
    "                                 6: 90, 7: 56, 8: 34},\n",
    "                          'Name': {0: 'Ram', 1: 'Deep',\n",
    "                                   2: 'Yash', 3: 'Aman',\n",
    "                                   4: 'Arjun', 5: 'Aditya',\n",
    "                                   6: 'Divya', 7: 'Chalsea',\n",
    "                                   8: 'Akash' },\n",
    "                          'Marks': {0: 89, 1: 97, 2: 45, 3: 78,\n",
    "                                    4: 56, 5: 76, 6: 100, 7: 87,\n",
    "                                    8: 81},\n",
    "                          'Grade': {0: 'B', 1: 'A', 2: 'F', 3: 'C',\n",
    "                                    4: 'E', 5: 'C', 6: 'A', 7: 'B',\n",
    "                                    8: 'B'}})\n",
    "\n",
    "print(d_data.index)\n",
    "print(d_data.Name)\n",
    "print(d_data)\n",
    "  \n",
    "\n",
    "  \n",
    "# determining the name of the file\n",
    "file_name = 'LetsExport.xlsx'\n",
    "  \n",
    "# saving the excel\n",
    "d_data.to_excel(file_name)"
   ]
  }
 ],
 "metadata": {
  "kernelspec": {
   "display_name": "Python 3.9.13 64-bit (microsoft store)",
   "language": "python",
   "name": "python3"
  },
  "language_info": {
   "codemirror_mode": {
    "name": "ipython",
    "version": 3
   },
   "file_extension": ".py",
   "mimetype": "text/x-python",
   "name": "python",
   "nbconvert_exporter": "python",
   "pygments_lexer": "ipython3",
   "version": "3.9.13"
  },
  "orig_nbformat": 4,
  "vscode": {
   "interpreter": {
    "hash": "a00094f430d4e0bf31d8bcd1818e632624f2ff7a6dccccbf63d2a36832140da3"
   }
  }
 },
 "nbformat": 4,
 "nbformat_minor": 2
}
