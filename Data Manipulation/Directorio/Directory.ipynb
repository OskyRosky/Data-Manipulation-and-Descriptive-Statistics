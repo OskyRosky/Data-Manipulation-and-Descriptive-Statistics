{
 "cells": [
  {
   "cell_type": "markdown",
   "metadata": {},
   "source": [
    "# Como cambiar el directorio en Python\n",
    "\n",
    "## En este tutotrias presentamos como se puede cambiar el directorio de trabajo en Pyton.\n",
    "## Utilizaremos la liberería os"
   ]
  },
  {
   "cell_type": "code",
   "execution_count": 35,
   "metadata": {},
   "outputs": [],
   "source": [
    "# Import the os module\n",
    "import os"
   ]
  },
  {
   "cell_type": "markdown",
   "metadata": {},
   "source": [
    "## Para saber la dirección exaca debemos  utilizar la función getcwd()"
   ]
  },
  {
   "cell_type": "code",
   "execution_count": 36,
   "metadata": {},
   "outputs": [
    {
     "name": "stdout",
     "output_type": "stream",
     "text": [
      "Current working directory: c:\\Users\\oscar\\Desktop\\GitHub\\Python\\Jupyter Notebook\\Data Manipulation\\Directorio\n"
     ]
    }
   ],
   "source": [
    "cwd = os.getcwd()\n",
    "cwd\n",
    "\n",
    "# Print the current working directory\n",
    "print(\"Current working directory: {0}\".format(cwd))"
   ]
  },
  {
   "cell_type": "markdown",
   "metadata": {},
   "source": [
    "## Vemos que la dirección se encuentra en 'c:\\\\Users\\\\oscar\\\\Desktop\\\\GitHub\\\\Python\\\\Jupyter Notebook' \n",
    "## Vamos a ponrt en 'C:\\\\Users\\\\oscar\\\\Desktop\\\\GitHub\\\\Python\\\\Jupyter Notebook\\\\Data Manipulation\\\\Directorio'\n",
    "\n",
    "## Para esto utilizamos la funcuón chdit(\"\") "
   ]
  },
  {
   "cell_type": "code",
   "execution_count": 37,
   "metadata": {},
   "outputs": [
    {
     "name": "stdout",
     "output_type": "stream",
     "text": [
      "Current working directory: c:\\Users\\oscar\\Desktop\\GitHub\\Python\\Jupyter Notebook\\Data Manipulation\\Directorio\n"
     ]
    }
   ],
   "source": [
    "path = 'C:\\\\Users\\\\oscar\\\\Desktop\\\\GitHub\\\\Python\\\\Jupyter Notebook\\\\Data Manipulation\\\\Directorio'\n",
    "\n",
    "# Change the current working directory\n",
    "os.chdir(path)\n",
    "\n",
    "# Let's check the new directory \n",
    "\n",
    "print(\"Current working directory: {0}\".format(os.getcwd()))"
   ]
  },
  {
   "cell_type": "markdown",
   "metadata": {},
   "source": [
    "## Cambiamos el directorio para poder, por ejemplo, importar o exportar datos. \n",
    "## Realicemos una simple importación a partir del archivo testData.xlsx y el uso de la librería Python"
   ]
  },
  {
   "cell_type": "code",
   "execution_count": 38,
   "metadata": {},
   "outputs": [],
   "source": [
    "import pandas as pd\n",
    "\n",
    "employee = pd.read_excel('testData.xlsx', sheet_name= 'employee')\n",
    "workday = pd.read_excel('testData.xlsx', sheet_name= 'workday')"
   ]
  },
  {
   "cell_type": "markdown",
   "metadata": {},
   "source": [
    "## Veamos solo la estructura general de los archivos employee y workday, esto es, las filas, columnas, y las variables de cada una."
   ]
  },
  {
   "cell_type": "code",
   "execution_count": 39,
   "metadata": {},
   "outputs": [
    {
     "name": "stdout",
     "output_type": "stream",
     "text": [
      "(37, 10)\n",
      "(2160, 9)\n",
      "['employee_id', 'transport_expense', 'distance', 'age', 'education', 'sons', 'pet', 'gender', 'disciplinary_faults', 'transportation_method']\n",
      "['employee_id', 'date', 'group_cause', 'month', 'day_of_week', 'absent', 'days_since_last_absence', 'weather', 'holiday']\n"
     ]
    }
   ],
   "source": [
    "# Usamos la función shape para ver las dimenciones de filas y columnas\n",
    "\n",
    "print(employee.shape)\n",
    "print(workday.shape)\n",
    "\n",
    "# Usamos la función list()\n",
    "\n",
    "list(employee)\n",
    "list(workday) # or\n",
    "\n",
    "\n",
    "# O el uso de df.columns.values.tolist() ----> .columns.values.tolist()\n",
    "\n",
    "variables1 = employee.columns.values.tolist()\n",
    "variables2 = workday.columns.values.tolist()\n",
    "\n",
    "print(variables1)\n",
    "print(variables2)\n"
   ]
  },
  {
   "cell_type": "markdown",
   "metadata": {},
   "source": [
    "## En resumen, utilizamos la librería *or* para el cambio de dirección, y las funciones *getcwd()* (\"*or.getcwd()*\") para saber donde nos ubicamos, y \n",
    "## la función *chdir(path)* (\"*os.chdir(path)*\") para poder llevar a cabo el cambio de dirección\n",
    "## Importante es que en Python, es recomendable utilizar los dobles back slash **\\\\** para poder llevar a cabo esto."
   ]
  }
 ],
 "metadata": {
  "kernelspec": {
   "display_name": "Python 3.9.13 64-bit (microsoft store)",
   "language": "python",
   "name": "python3"
  },
  "language_info": {
   "codemirror_mode": {
    "name": "ipython",
    "version": 3
   },
   "file_extension": ".py",
   "mimetype": "text/x-python",
   "name": "python",
   "nbconvert_exporter": "python",
   "pygments_lexer": "ipython3",
   "version": "3.9.13 (tags/v3.9.13:6de2ca5, May 17 2022, 16:36:42) [MSC v.1929 64 bit (AMD64)]"
  },
  "orig_nbformat": 4,
  "vscode": {
   "interpreter": {
    "hash": "a00094f430d4e0bf31d8bcd1818e632624f2ff7a6dccccbf63d2a36832140da3"
   }
  }
 },
 "nbformat": 4,
 "nbformat_minor": 2
}
